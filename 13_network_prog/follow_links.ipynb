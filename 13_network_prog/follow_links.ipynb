{
 "cells": [
  {
   "cell_type": "code",
   "execution_count": 66,
   "metadata": {},
   "outputs": [
    {
     "name": "stdout",
     "output_type": "stream",
     "text": [
      "Retrieving: http://py4e-data.dr-chuck.net/known_by_Saul.html\n",
      "Retrieving: http://py4e-data.dr-chuck.net/known_by_Blazej.html\n",
      "Retrieving: http://py4e-data.dr-chuck.net/known_by_Aleishia.html\n",
      "Retrieving: http://py4e-data.dr-chuck.net/known_by_Avril.html\n",
      "Retrieving: http://py4e-data.dr-chuck.net/known_by_Janette.html\n",
      "Retrieving: http://py4e-data.dr-chuck.net/known_by_Kirsten.html\n",
      "Retrieving: http://py4e-data.dr-chuck.net/known_by_Celsi.html\n",
      "Retrieving: http://py4e-data.dr-chuck.net/known_by_Tobey.html\n"
     ]
    }
   ],
   "source": [
    "import urllib.request, urllib.parse , urllib.error\n",
    "from bs4 import BeautifulSoup\n",
    "import ssl\n",
    "\n",
    "\n",
    "ctx= ssl.create_default_context()\n",
    "ctx.check_hostname = False\n",
    "ctx.verify_mode = ssl.CERT_NONE\n",
    "\n",
    "n = input('Enter URL: ')\n",
    "count = input('Enter count ')\n",
    "position = input('Enter position ')\n",
    "\n",
    "for i in range(int(count) + 1):\n",
    "    html = urllib.request.urlopen(n, context=ctx).read()\n",
    "    soup = BeautifulSoup(html, 'html.parser')\n",
    "    tags = soup('a')\n",
    "    print ('Retrieving:',n)\n",
    "    n =  tags[int(position) - 1].get('href', None)"
   ]
  },
  {
   "cell_type": "code",
   "execution_count": 71,
   "metadata": {},
   "outputs": [
    {
     "name": "stdout",
     "output_type": "stream",
     "text": [
      "retreiving http://py4e-data.dr-chuck.net/known_by_Saul.html\n",
      "retreiving http://py4e-data.dr-chuck.net/known_by_Blazej.html\n",
      "retreiving http://py4e-data.dr-chuck.net/known_by_Aleishia.html\n",
      "retreiving http://py4e-data.dr-chuck.net/known_by_Avril.html\n",
      "retreiving http://py4e-data.dr-chuck.net/known_by_Janette.html\n",
      "retreiving http://py4e-data.dr-chuck.net/known_by_Kirsten.html\n",
      "retreiving http://py4e-data.dr-chuck.net/known_by_Celsi.html\n",
      "retreiving http://py4e-data.dr-chuck.net/known_by_Tobey.html\n"
     ]
    }
   ],
   "source": [
    "ctx= ssl.create_default_context()\n",
    "ctx.check_hostname = False\n",
    "ctx.verify_mode = ssl.CERT_NONE\n",
    "\n",
    "url = input('Enter url: ')\n",
    "pos = input('Enter position: ')\n",
    "count = input('Enter count: ')\n",
    "\n",
    "for i in range(int(count)+1):\n",
    "    html = urllib.request.urlopen(url, context=ctx).read()\n",
    "    soup = BeautifulSoup(html, 'html.parser')\n",
    "    tags = soup('a')\n",
    "    print('retreiving', url)\n",
    "    url = tags[int(pos) - 1].get('href', None)\n",
    "    "
   ]
  },
  {
   "cell_type": "code",
   "execution_count": null,
   "metadata": {},
   "outputs": [],
   "source": []
  }
 ],
 "metadata": {
  "interpreter": {
   "hash": "ecf5722fdaf1897a315d257d89d94520bfcaa453217d5becf09b39e73618b0de"
  },
  "kernelspec": {
   "display_name": "Python 3.9.5 ('base')",
   "language": "python",
   "name": "python3"
  },
  "language_info": {
   "codemirror_mode": {
    "name": "ipython",
    "version": 3
   },
   "file_extension": ".py",
   "mimetype": "text/x-python",
   "name": "python",
   "nbconvert_exporter": "python",
   "pygments_lexer": "ipython3",
   "version": "3.9.7"
  },
  "orig_nbformat": 4
 },
 "nbformat": 4,
 "nbformat_minor": 2
}
