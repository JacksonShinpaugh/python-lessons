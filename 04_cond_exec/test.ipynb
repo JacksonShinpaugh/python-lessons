{
 "cells": [
  {
   "cell_type": "markdown",
   "metadata": {},
   "source": [
    "3.1 Write a program to prompt the user for hours and rate per hour using input to compute gross pay. Pay the hourly rate for the hours up to 40 and 1.5 times the hourly rate for all hours worked above 40 hours. Use 45 hours and a rate of 10.50 per hour to test the program (the pay should be 498.75). You should use input to read a string and float() to convert the string to a number. Do not worry about error checking the user input - assume the user types numbers properly.\n",
    "\n",
    "Desired Output:\n",
    "498.75"
   ]
  },
  {
   "cell_type": "code",
   "execution_count": 1,
   "metadata": {},
   "outputs": [
    {
     "name": "stdout",
     "output_type": "stream",
     "text": [
      "498.75\n"
     ]
    }
   ],
   "source": [
    "hours = float(input('hours: '))\n",
    "rate = float(input('rate: '))\n",
    "\n",
    "if hours > 40:\n",
    "    over_hours = hours - 40\n",
    "    hours = 40\n",
    "    over_pay = (over_hours * (rate*1.5) + (hours * rate))\n",
    "    print(over_pay)\n",
    "\n",
    "else:\n",
    "    print(hours*rate)"
   ]
  },
  {
   "cell_type": "code",
   "execution_count": 4,
   "metadata": {},
   "outputs": [
    {
     "name": "stdout",
     "output_type": "stream",
     "text": [
      "498.75\n"
     ]
    }
   ],
   "source": [
    "#03_01\n",
    "\n",
    "h = input('Enter hours: ')\n",
    "r = input('Enter rate: ')\n",
    "\n",
    "hours = float(h)\n",
    "rate = float(r)\n",
    "\n",
    "if hours > 40:\n",
    "    over_hours = hours - 40\n",
    "    over_pay = (over_hours * (1.5 * rate) + (rate * 40))\n",
    "    print(over_pay)\n",
    "\n",
    "else:\n",
    "    pay = hours * rate\n",
    "    print(pay)\n",
    "    \n"
   ]
  },
  {
   "cell_type": "markdown",
   "metadata": {},
   "source": [
    "3.3 Write a program to prompt for a score between 0.0 and 1.0. If the score is out of range, print an error. If the score is between 0.0 and 1.0, print a grade using the following table:\n",
    "Score Grade\n",
    ">= 0.9 A\n",
    ">= 0.8 B\n",
    ">= 0.7 C\n",
    ">= 0.6 D\n",
    "< 0.6 F\n",
    "If the user enters a value out of range, print a suitable error message and exit. For the test, enter a score of 0.85.\n",
    "\n",
    "Desired Output:\n",
    "B"
   ]
  },
  {
   "cell_type": "code",
   "execution_count": 5,
   "metadata": {},
   "outputs": [
    {
     "name": "stdout",
     "output_type": "stream",
     "text": [
      "B\n"
     ]
    }
   ],
   "source": [
    "#03_03\n",
    "\n",
    "s = input('Enter score: ')\n",
    "score = float(s)\n",
    "\n",
    "if score > 1:\n",
    "    print('score out of range.')\n",
    "elif score >= 0.9:\n",
    "    print('A')\n",
    "elif score >= 0.8:\n",
    "    print('B')\n",
    "elif score >= 0.7:\n",
    "    print('C')\n",
    "elif score >= 0.6:\n",
    "    print('D')\n",
    "else:\n",
    "    print('F')\n"
   ]
  }
 ],
 "metadata": {
  "interpreter": {
   "hash": "224d2077684d48301571c4288cbf20074c4721bf884654f6e3b9c2f7f09e95c7"
  },
  "kernelspec": {
   "display_name": "Python 3.9.7 ('dsbasic')",
   "language": "python",
   "name": "python3"
  },
  "language_info": {
   "codemirror_mode": {
    "name": "ipython",
    "version": 3
   },
   "file_extension": ".py",
   "mimetype": "text/x-python",
   "name": "python",
   "nbconvert_exporter": "python",
   "pygments_lexer": "ipython3",
   "version": "3.9.7"
  },
  "orig_nbformat": 4
 },
 "nbformat": 4,
 "nbformat_minor": 2
}
