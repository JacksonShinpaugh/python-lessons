{
 "cells": [
  {
   "cell_type": "code",
   "execution_count": 5,
   "metadata": {},
   "outputs": [
    {
     "name": "stdout",
     "output_type": "stream",
     "text": [
      "Invalid input\n",
      "Maximum is 10\n",
      "Minimum is 2\n"
     ]
    }
   ],
   "source": [
    "largest = None\n",
    "smallest = None\n",
    "\n",
    "while True :\n",
    "    num = input('Enter number: ')\n",
    "    if num == \"done\":\n",
    "        break\n",
    "    try :\n",
    "        fnum = int(num)\n",
    "        \n",
    "    except :\n",
    "        print('Invalid input')\n",
    "        continue\n",
    "\n",
    "    if largest is None :\n",
    "        largest = fnum\n",
    "    elif largest < fnum :\n",
    "        largest = fnum\n",
    "    elif smallest is None :\n",
    "        smallest = fnum\n",
    "    elif smallest > fnum :\n",
    "        smallest = fnum\n",
    "\n",
    "print('Maximum is', largest)\n",
    "print('Minimum is', smallest)\n",
    "\n",
    "    \n",
    "\n",
    "    \n",
    "    \n",
    "\n",
    "\n",
    "\n",
    "\n"
   ]
  }
 ],
 "metadata": {
  "interpreter": {
   "hash": "224d2077684d48301571c4288cbf20074c4721bf884654f6e3b9c2f7f09e95c7"
  },
  "kernelspec": {
   "display_name": "Python 3.9.7 64-bit ('dsbasic': conda)",
   "language": "python",
   "name": "python3"
  },
  "language_info": {
   "codemirror_mode": {
    "name": "ipython",
    "version": 3
   },
   "file_extension": ".py",
   "mimetype": "text/x-python",
   "name": "python",
   "nbconvert_exporter": "python",
   "pygments_lexer": "ipython3",
   "version": "3.9.7"
  },
  "orig_nbformat": 4
 },
 "nbformat": 4,
 "nbformat_minor": 2
}
