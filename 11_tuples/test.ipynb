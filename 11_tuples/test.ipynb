{
 "cells": [
  {
   "cell_type": "markdown",
   "metadata": {},
   "source": [
    "10.2 Write a program to read through the mbox-short.txt and figure out the distribution by hour of the day for each of the messages. You can pull the hour out from the 'From ' line by finding the time and then splitting the string a second time using a colon.\n",
    "From stephen.marquard@uct.ac.za Sat Jan  5 09:14:16 2008\n",
    "Once you have accumulated the counts for each hour, print out the counts, sorted by hour as shown below.\n",
    "\n",
    "Desired Output:\n",
    "04 3\n",
    "06 1\n",
    "07 1\n",
    "09 2\n",
    "10 3\n",
    "11 6\n",
    "14 1\n",
    "15 2\n",
    "16 4\n",
    "17 2\n",
    "18 1\n",
    "19 1"
   ]
  },
  {
   "cell_type": "code",
   "execution_count": 14,
   "metadata": {},
   "outputs": [
    {
     "name": "stdout",
     "output_type": "stream",
     "text": [
      "04 3\n",
      "06 1\n",
      "07 1\n",
      "09 2\n",
      "10 3\n",
      "11 6\n",
      "14 1\n",
      "15 2\n",
      "16 4\n",
      "17 2\n",
      "18 1\n",
      "19 1\n"
     ]
    }
   ],
   "source": [
    "f = open('mbox-short.txt')\n",
    "\n",
    "di = {}\n",
    "\n",
    "for line in f:\n",
    "    if not line.startswith('From '):\n",
    "        continue\n",
    "    line = line.split()\n",
    "    time = line[5]\n",
    "    h = time.split(':')\n",
    "    hours = h[0]\n",
    "    di[hours] = di.get(hours, 0) + 1\n",
    "\n",
    "\n",
    "for k,v in sorted(di.items()):\n",
    "    print(k,v)\n",
    "    \n",
    "    \n",
    "    \n",
    "\n",
    "    "
   ]
  }
 ],
 "metadata": {
  "interpreter": {
   "hash": "224d2077684d48301571c4288cbf20074c4721bf884654f6e3b9c2f7f09e95c7"
  },
  "kernelspec": {
   "display_name": "Python 3.9.7 ('dsbasic')",
   "language": "python",
   "name": "python3"
  },
  "language_info": {
   "codemirror_mode": {
    "name": "ipython",
    "version": 3
   },
   "file_extension": ".py",
   "mimetype": "text/x-python",
   "name": "python",
   "nbconvert_exporter": "python",
   "pygments_lexer": "ipython3",
   "version": "3.9.7"
  },
  "orig_nbformat": 4
 },
 "nbformat": 4,
 "nbformat_minor": 2
}
