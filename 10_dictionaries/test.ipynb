{
 "cells": [
  {
   "cell_type": "markdown",
   "metadata": {},
   "source": [
    "9.4 Write a program to read through the mbox-short.txt and figure out who has sent the greatest number of mail messages. The program looks for 'From ' lines and takes the second word of those lines as the person who sent the mail. The program creates a Python dictionary that maps the sender's mail address to a count of the number of times they appear in the file. After the dictionary is produced, the program reads through the dictionary using a maximum loop to find the most prolific committer.\n",
    "\n",
    "Desired Output:\n",
    "cwen@iupui.edu 5"
   ]
  },
  {
   "cell_type": "code",
   "execution_count": 17,
   "metadata": {},
   "outputs": [
    {
     "name": "stdout",
     "output_type": "stream",
     "text": [
      "cwen@iupui.edu 5\n"
     ]
    }
   ],
   "source": [
    "f = open('mbox-short.txt')\n",
    "\n",
    "di = {}\n",
    "\n",
    "for line in f:\n",
    "    line = line.rstrip()\n",
    "    line = line.split()\n",
    "    if 'From' in line:\n",
    "        email = line[1]\n",
    "    elif email in di:\n",
    "        continue\n",
    "    \n",
    "    di[email] = di.get(email, 0) + 1\n",
    "\n",
    "bigword = None\n",
    "bigcount = None\n",
    "\n",
    "for k,v in di.items():\n",
    "    if bigword is None or v > bigcount:\n",
    "        bigword = k\n",
    "        bigcount = v\n",
    "\n",
    "print(bigword, bigcount)"
   ]
  }
 ],
 "metadata": {
  "interpreter": {
   "hash": "224d2077684d48301571c4288cbf20074c4721bf884654f6e3b9c2f7f09e95c7"
  },
  "kernelspec": {
   "display_name": "Python 3.9.7 ('dsbasic')",
   "language": "python",
   "name": "python3"
  },
  "language_info": {
   "codemirror_mode": {
    "name": "ipython",
    "version": 3
   },
   "file_extension": ".py",
   "mimetype": "text/x-python",
   "name": "python",
   "nbconvert_exporter": "python",
   "pygments_lexer": "ipython3",
   "version": "3.9.7"
  },
  "orig_nbformat": 4
 },
 "nbformat": 4,
 "nbformat_minor": 2
}
