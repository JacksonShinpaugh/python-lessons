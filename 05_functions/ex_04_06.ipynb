{
 "cells": [
  {
   "cell_type": "code",
   "execution_count": 2,
   "metadata": {},
   "outputs": [
    {
     "name": "stdout",
     "output_type": "stream",
     "text": [
      "Pay 1280.0\n"
     ]
    }
   ],
   "source": [
    "def computepay(hours, rate) :\n",
    "    if hours > 40.0 :\n",
    "        reg = hours * rate\n",
    "        over_pay = (hours - 40.0) * (rate * 0.5)\n",
    "        pay = reg + over_pay\n",
    "    else :\n",
    "        pay = hours * rate\n",
    "    return pay\n",
    "\n",
    "hours = input('hours:')\n",
    "rate = input('rate:')\n",
    "int_hours = float(hours)\n",
    "int_rate = float(rate)\n",
    "\n",
    "x = computepay(int_hours, int_rate)\n",
    "print('Pay', x)"
   ]
  }
 ],
 "metadata": {
  "interpreter": {
   "hash": "224d2077684d48301571c4288cbf20074c4721bf884654f6e3b9c2f7f09e95c7"
  },
  "kernelspec": {
   "display_name": "Python 3.9.7 64-bit ('dsbasic': conda)",
   "language": "python",
   "name": "python3"
  },
  "language_info": {
   "codemirror_mode": {
    "name": "ipython",
    "version": 3
   },
   "file_extension": ".py",
   "mimetype": "text/x-python",
   "name": "python",
   "nbconvert_exporter": "python",
   "pygments_lexer": "ipython3",
   "version": "3.9.7"
  },
  "orig_nbformat": 4
 },
 "nbformat": 4,
 "nbformat_minor": 2
}
