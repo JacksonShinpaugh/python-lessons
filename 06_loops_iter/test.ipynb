{
 "cells": [
  {
   "cell_type": "code",
   "execution_count": 14,
   "metadata": {},
   "outputs": [
    {
     "name": "stdout",
     "output_type": "stream",
     "text": [
      "Invalid input\n",
      "Maximum is 10\n",
      "Minimum is 2\n"
     ]
    }
   ],
   "source": [
    "smallest = None\n",
    "largest = None\n",
    "\n",
    "while True:\n",
    "    num = input('Enter number: ')\n",
    "    if num == 'done':\n",
    "        break\n",
    "    try:\n",
    "       fnum = int(num)\n",
    "    except:\n",
    "        print('Invalid input')\n",
    "        continue\n",
    "\n",
    "    if largest is None:\n",
    "        largest = fnum\n",
    "    elif largest < fnum:\n",
    "        largest = fnum\n",
    "    elif smallest is None:\n",
    "        smallest = fnum\n",
    "    elif smallest > fnum:\n",
    "        smallest = fnum\n",
    "\n",
    "\n",
    "print('Maximum is', largest)\n",
    "print('Minimum is', smallest)"
   ]
  },
  {
   "cell_type": "markdown",
   "metadata": {},
   "source": [
    "5.2 Write a program that repeatedly prompts a user for integer numbers until the user enters 'done'. Once 'done' is entered, print out the largest and smallest of the numbers. If the user enters anything other than a valid number catch it with a try/except and put out an appropriate message and ignore the number. Enter 7, 2, bob, 10, and 4 and match the output below.\n",
    "\n",
    "Desired Output:\n",
    "Invalid input\n",
    "Maximum is 10\n",
    "Minimum is 2"
   ]
  }
 ],
 "metadata": {
  "interpreter": {
   "hash": "224d2077684d48301571c4288cbf20074c4721bf884654f6e3b9c2f7f09e95c7"
  },
  "kernelspec": {
   "display_name": "Python 3.9.7 ('dsbasic')",
   "language": "python",
   "name": "python3"
  },
  "language_info": {
   "codemirror_mode": {
    "name": "ipython",
    "version": 3
   },
   "file_extension": ".py",
   "mimetype": "text/x-python",
   "name": "python",
   "nbconvert_exporter": "python",
   "pygments_lexer": "ipython3",
   "version": "3.9.7"
  },
  "orig_nbformat": 4
 },
 "nbformat": 4,
 "nbformat_minor": 2
}
